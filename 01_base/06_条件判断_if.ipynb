{
 "cells": [
  {
   "cell_type": "markdown",
   "id": "4af3adfa",
   "metadata": {},
   "source": [
    "| [01_base/06_条件判断_if.ipynb](https://github.com/shibing624/python-tutorial/blob/master/01_base/06_条件判断_if.ipynb)  | Python条件判断  |[Open In Colab](https://colab.research.google.com/github/shibing624/python-tutorial/blob/master/01_base/06_条件判断_if.ipynb) |\n",
    "\n",
    "# 条件判断\n",
    "\n",
    "### 基本用法"
   ]
  },
  {
   "cell_type": "code",
   "execution_count": null,
   "id": "2e3a22dc",
   "metadata": {},
   "outputs": [],
   "source": [
    "a = 62\n",
    "print(\"exam score check:\")\n",
    "if a >= 60:\n",
    "    print(\"student pass\")\n",
    "elif a == 0:\n",
    "    print(\"student 0: not pass\")\n",
    "else:\n",
    "    print(\"student not pass\")"
   ]
  },
  {
   "cell_type": "markdown",
   "id": "7fbbbc96",
   "metadata": {},
   "source": [
    "可以使用 and ， or , not 等关键词结合多个判断条件："
   ]
  },
  {
   "cell_type": "code",
   "execution_count": null,
   "id": "8faa2e35",
   "metadata": {},
   "outputs": [],
   "source": [
    "a = 10\n",
    "b = -5\n",
    "print(a > 0 and b < 0)  # True\n",
    "print(not a > 0)  # False\n",
    "print(a < 0 or b < 0)  # True"
   ]
  },
  {
   "cell_type": "markdown",
   "id": "a646a33e",
   "metadata": {},
   "source": [
    "### 一个例子"
   ]
  },
  {
   "cell_type": "code",
   "execution_count": null,
   "id": "92ffc111",
   "metadata": {},
   "outputs": [],
   "source": [
    "year = 1900\n",
    "if year % 400 == 0:\n",
    "    print(\"This is a leap year!\")\n",
    "# 两个条件都满足才执行\n",
    "elif year % 4 == 0 and year % 100 != 0:\n",
    "    print(\"This is a leap year!\")\n",
    "else:\n",
    "    print(\"This is not a leap year.\")\n",
    "# This is not a leap year."
   ]
  },
  {
   "cell_type": "markdown",
   "id": "feaffbfc",
   "metadata": {},
   "source": [
    "### 判断列表"
   ]
  },
  {
   "cell_type": "code",
   "execution_count": null,
   "id": "ccc00f7a",
   "metadata": {},
   "outputs": [],
   "source": [
    "my_list = [1, 2]\n",
    "# 判断一个列表是否为空。\n",
    "if len(my_list) > 0:\n",
    "    print(\"the first element is: \", my_list[0])\n",
    "else:\n",
    "    print(\"no element.\")\n"
   ]
  },
  {
   "cell_type": "markdown",
   "id": "4ea3c3b5",
   "metadata": {},
   "source": [
    "match is added from python 3.10"
   ]
  },
  {
   "cell_type": "code",
   "execution_count": 9,
   "id": "48ef4ee7",
   "metadata": {},
   "outputs": [
    {
     "name": "stdout",
     "output_type": "stream",
     "text": [
      "_\n"
     ]
    }
   ],
   "source": [
    "status = 3\n",
    "match status:\n",
    "    case 1 | 2 | 3:\n",
    "        print(\"1 or 2 or 3\")\n",
    "    case 4:\n",
    "        print(\"4\")\n",
    "    case _:\n",
    "        print(\"_\")"
   ]
  },
  {
   "cell_type": "code",
   "execution_count": 13,
   "id": "278b22c9",
   "metadata": {},
   "outputs": [
    {
     "name": "stdout",
     "output_type": "stream",
     "text": [
      "Y=10\n"
     ]
    }
   ],
   "source": [
    "# point is an (x, y) tuple\n",
    "x =5\n",
    "y = 10\n",
    "point = (0,y)\n",
    "match point:\n",
    "    case (0, 0):\n",
    "        print(\"Origin\")\n",
    "    case (0, y):\n",
    "        print(f\"Y={y}\")\n",
    "    case (x, 0):\n",
    "        print(f\"X={x}\")\n",
    "    case (x, y):\n",
    "        print(f\"X={x}, Y={y}\")\n",
    "    case _:\n",
    "        raise ValueError(\"Not a point\")"
   ]
  },
  {
   "cell_type": "markdown",
   "id": "2c6f77b2",
   "metadata": {},
   "source": [
    "本节完。"
   ]
  }
 ],
 "metadata": {
  "kernelspec": {
   "display_name": "Python 3",
   "language": "python",
   "name": "python3"
  },
  "language_info": {
   "codemirror_mode": {
    "name": "ipython",
    "version": 3
   },
   "file_extension": ".py",
   "mimetype": "text/x-python",
   "name": "python",
   "nbconvert_exporter": "python",
   "pygments_lexer": "ipython3",
   "version": "3.11.5"
  }
 },
 "nbformat": 4,
 "nbformat_minor": 5
}
