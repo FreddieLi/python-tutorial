{
 "cells": [
  {
   "cell_type": "markdown",
   "metadata": {},
   "source": [
    "## 正規表達式(python)"
   ]
  },
  {
   "cell_type": "code",
   "execution_count": null,
   "metadata": {},
   "outputs": [],
   "source": [
    "import re\n",
    "Regex = re.compile(r'\\d{2}-\\d{4}-\\d{4}')\n",
    "\n",
    "str = \"Please call David at 02-8888-1688 by today.\\r\\n02-9888-9898 is his office number.\"\n",
    "\n",
    "result = Regex.search(str)\n",
    "print(\"group():\",result.group())\n",
    "print(\"span():\",result.span())\n",
    "print(\"start():\",result.start())\n",
    "print(\"end():\",result.end())"
   ]
  },
  {
   "cell_type": "markdown",
   "metadata": {},
   "source": [
    "[ref](https://hackmd.io/@rj1110634028/r1BswhBl9#%E6%AD%A3%E8%A6%8F%E8%A1%A8%E9%81%94%E5%BC%8Fpython)"
   ]
  }
 ],
 "metadata": {
  "kernelspec": {
   "display_name": "Python 3",
   "language": "python",
   "name": "python3"
  },
  "language_info": {
   "codemirror_mode": {
    "name": "ipython",
    "version": 3
   },
   "file_extension": ".py",
   "mimetype": "text/x-python",
   "name": "python",
   "nbconvert_exporter": "python",
   "pygments_lexer": "ipython3",
   "version": "3.8.8"
  }
 },
 "nbformat": 4,
 "nbformat_minor": 5
}
